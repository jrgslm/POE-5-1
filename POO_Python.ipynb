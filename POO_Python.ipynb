{
  "nbformat": 4,
  "nbformat_minor": 0,
  "metadata": {
    "colab": {
      "name": "POO Python",
      "provenance": [],
      "collapsed_sections": [],
      "include_colab_link": true
    },
    "kernelspec": {
      "name": "python3",
      "display_name": "Python 3"
    },
    "language_info": {
      "name": "python"
    }
  },
  "cells": [
    {
      "cell_type": "markdown",
      "metadata": {
        "id": "view-in-github",
        "colab_type": "text"
      },
      "source": [
        "<a href=\"https://colab.research.google.com/github/jrgslm/POE-5-1/blob/main/POO_Python.ipynb\" target=\"_parent\"><img src=\"https://colab.research.google.com/assets/colab-badge.svg\" alt=\"Open In Colab\"/></a>"
      ]
    },
    {
      "cell_type": "code",
      "execution_count": 4,
      "metadata": {
        "id": "runHhFolwnqG",
        "outputId": "4e524ac4-71a7-4cdb-edd3-f18a609b5205",
        "colab": {
          "base_uri": "https://localhost:8080/"
        }
      },
      "outputs": [
        {
          "output_type": "stream",
          "name": "stdout",
          "text": [
            "La edad de Maikel es 30\n"
          ]
        }
      ],
      "source": [
        "class persona(): # clase persona\n",
        "    def __init__(self,nombre,edad): # se inicializa con nombre y edad\n",
        "        self.nombre=nombre\n",
        "        self.edad=edad\n",
        "\n",
        "maikel = persona(\"MAikel Leyva\", 30)\n",
        "\n",
        "#Ejercicio 1. Imprimir Edad.\n",
        "print(\"La edad de Maikel es\",maikel.edad)"
      ]
    }
  ]
}